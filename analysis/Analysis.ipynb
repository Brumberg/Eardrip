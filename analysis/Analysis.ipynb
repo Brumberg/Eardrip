{
 "cells": [
  {
   "cell_type": "markdown",
   "id": "912ceaf8-3f7e-4335-8765-7a061cdb1f07",
   "metadata": {},
   "source": [
    "# Music Database Analysis"
   ]
  },
  {
   "cell_type": "markdown",
   "id": "ae719ca9-bad1-43cc-816f-8018012538be",
   "metadata": {},
   "source": [
    "## Intro"
   ]
  },
  {
   "cell_type": "markdown",
   "id": "f694ba3e-ab18-456d-89a7-90de6014631b",
   "metadata": {},
   "source": [
    "Analysis of music data set according to their attributes"
   ]
  },
  {
   "cell_type": "markdown",
   "id": "9046670b-1354-468f-9a7d-31f50a3e6ca1",
   "metadata": {},
   "source": [
    "## Database"
   ]
  },
  {
   "cell_type": "markdown",
   "id": "e26762f4-8532-4cdc-9189-f4fe5c781e04",
   "metadata": {},
   "source": [
    "Skip that part if you do not want to analyze local playlist.Gives an rough overview of the two lists."
   ]
  },
  {
   "cell_type": "code",
   "execution_count": 145,
   "id": "55e6dba6-8dd3-4239-83b3-7c498f9778ba",
   "metadata": {},
   "outputs": [
    {
     "name": "stdout",
     "output_type": "stream",
     "text": [
      "\n",
      "Songs in the Like Playlist \n",
      "--------------------------\n",
      "\n",
      "Songindex= 0, title= A Boogie Wit Da Hoodie - Bleed\n",
      "Songindex= 1, title= A$AP Rocky - Praise The Lord\n",
      "Songindex= 2, title= Abra Cadabra - Daily Duppy\n",
      "Songindex= 3, title= Abra Cadabra - Double Tap\n",
      "Songindex= 4, title= Benji Ceez - Willy Wonka\n",
      "Songindex= 5, title= Don Toliver - After Party\n",
      "Songindex= 6, title= Don Toliver - No Idea\n",
      "Songindex= 7, title= Don Toliver - No Photos\n",
      "Songindex= 8, title= Fredo - Double Tap\n",
      "Songindex= 9, title= J Hus - Did You See\n",
      "Songindex= 10, title= Jaden - Icon\n",
      "Songindex= 11, title= Joyner Lucas - Lotto\n",
      "Songindex= 12, title= Meek Mill - Pain Away\n",
      "Songindex= 13, title= NLE Choppa - Walk Em Down\n",
      "Songindex= 14, title= NSG - After OT Bop\n",
      "Songindex= 15, title= PlayBoi Carti - @Meh\n",
      "Songindex= 16, title= Polo G - Epidemic\n",
      "Songindex= 17, title= Roddy Rich - Down Below\n",
      "Songindex= 18, title= Travis Scott - Franchise\n",
      "Songindex= 19, title= Trippie Redd - !\n",
      "Songindex= 20, title= xxxtentacion - Arms Around You\n",
      "Songindex= 21, title= xxxtentacion - Bad\n",
      "Songindex= 22, title= xxxtentacion - Sad!\n",
      "----------------------------------------------------\n",
      " Number of songs: 23 \n",
      "----------------------------------------------------\n",
      "\n",
      "\n",
      "Songs in the Like Playlist \n",
      "--------------------------\n",
      "\n",
      "Songindex= 0, title= 24kGoldn - Mood\n",
      "Songindex= 1, title= Jack Harlow - Walk In The Park\n",
      "Songindex= 2, title= Jackboys - What To Do\n",
      "Songindex= 3, title= Juice Wrld - Bad Energy\n",
      "Songindex= 4, title= Juice Wrld - Bandit\n",
      "Songindex= 5, title= Juice Wrld - Hear Me Calling\n",
      "Songindex= 6, title= Juice Wrld - Smile\n",
      "Songindex= 7, title= Juice Wrld - Stay high\n",
      "Songindex= 8, title= Juice Wrld - Tell Me U Luv Me\n",
      "Songindex= 9, title= Lil Baby - Baby\n",
      "Songindex= 10, title= Lil Baby - Sum 2 Prove\n",
      "Songindex= 11, title= Lil Baby - Woah\n",
      "Songindex= 12, title= Lil Keed - She know\n",
      "Songindex= 13, title= Lil Poppa - Been Thru\n",
      "Songindex= 14, title= Lil Uzi Vert - P2\n",
      "Songindex= 15, title= Migos - Danger\n",
      "Songindex= 16, title= NF - Change\n",
      "Songindex= 17, title= NF - Let You Down\n",
      "Songindex= 18, title= NF - My Stress\n",
      "Songindex= 19, title= NF - Nate\n",
      "Songindex= 20, title= NF - Paid My Dues\n",
      "Songindex= 21, title= Partynextdoor - Loyal\n",
      "Songindex= 22, title= The Kid LAROI - Wrong\n",
      "----------------------------------------------------\n",
      " Number of songs: 23 \n",
      "----------------------------------------------------\n",
      "\n"
     ]
    }
   ],
   "source": [
    "from mulo import CreatePlayList\n",
    "filename_json_playlist_like = 'Playlist_like.json'\n",
    "filename_json_playlist_dislike = 'Playlist_dislike.json'\n",
    "print('\\nSongs in the Like Playlist', '\\n--------------------------\\n')\n",
    "CreatePlayList('D:\\Data\\Projects\\Database\\SONG LIBRARY\\LIKE', filename_json_playlist_like, 'w')\n",
    "print('\\nSongs in the Like Playlist', '\\n--------------------------\\n')\n",
    "CreatePlayList('D:\\Data\\Projects\\Database\\SONG LIBRARY\\DISLIKE', filename_json_playlist_dislike, 'w')"
   ]
  },
  {
   "cell_type": "markdown",
   "id": "30b8853e-6291-4722-a4a8-4ec463bd34a4",
   "metadata": {},
   "source": [
    "## Load data set"
   ]
  },
  {
   "cell_type": "markdown",
   "id": "e4da9283-bd6e-4de0-8f11-64b227094f6d",
   "metadata": {},
   "source": [
    "Reproducible dataset."
   ]
  },
  {
   "cell_type": "code",
   "execution_count": 146,
   "id": "79757b63-01e5-4b86-ad9a-608de8ba1734",
   "metadata": {},
   "outputs": [],
   "source": [
    "import json\n",
    "# Opening JSON file\n",
    "database_like = dict()\n",
    "database_dislike = dict()\n",
    "with open(filename_json_playlist_like) as json_file:\n",
    "    database_like = json.load(json_file)\n",
    "with open(filename_json_playlist_dislike) as json_file:\n",
    "    database_dislike = json.load(json_file)"
   ]
  },
  {
   "cell_type": "code",
   "execution_count": 147,
   "id": "29fbc773-b955-4bd2-aadb-92b834378c73",
   "metadata": {},
   "outputs": [],
   "source": [
    "database_like_title_artist = []\n",
    "database_dislike_title_artist = []\n",
    "\n",
    "for i in database_like:\n",
    "    artist, title = database_like[i].split(' - ')\n",
    "    database_like_title_artist.append([title, artist])\n",
    "    \n",
    "for i in database_dislike:\n",
    "    artist, title = database_dislike[i].split(' - ')\n",
    "    database_dislike_title_artist.append([title, artist])"
   ]
  },
  {
   "cell_type": "code",
   "execution_count": 153,
   "id": "1f9e3727-f881-4825-8391-5298a8c4f38c",
   "metadata": {},
   "outputs": [
    {
     "name": "stdout",
     "output_type": "stream",
     "text": [
      "Number of songs in like database: 23\n",
      "Number of songs in dislike database: 23\n"
     ]
    }
   ],
   "source": [
    "from rema import remotedatabase as rema\n",
    "remoteaccess = rema()\n",
    "#for i in database_like:\n",
    "#    [artist_name, track_name, popularity, track_id] = remoteaccess.GetAttributes(database_like[i])\n",
    "#    print(artist_name)\n",
    "like_matches = []\n",
    "dislike_matches = []\n",
    "\n",
    "like_index = 0\n",
    "for i in database_like_title_artist:\n",
    "    # print(j,i[0], i[1])\n",
    "    artist_name, track_name, popularity, track_id, track_uid = remoteaccess.GetAttributes(i[0], i[1])\n",
    "    metadata = remoteaccess.GetTrackAnalytics(track_uid)\n",
    "    # print([j, artist_name[0], track_name[0], popularity[0], track_id[0], track_uid[0], metadata[0]])\n",
    "    like_matches.append([artist_name[0], track_name[0], popularity[0], track_id[0], track_uid[0], metadata[0]])\n",
    "    like_index = like_index + 1\n",
    "\n",
    "dislike_index = 0\n",
    "for i in database_dislike_title_artist:\n",
    "    # print(j,i[0], i[1])\n",
    "    artist_name, track_name, popularity, track_id, track_uid = remoteaccess.GetAttributes(i[0], i[1])\n",
    "    metadata = remoteaccess.GetTrackAnalytics(track_uid)\n",
    "    # print([j, artist_name[0], track_name[0], popularity[0], track_id[0], track_uid[0], metadata[0]])\n",
    "    dislike_matches.append([artist_name[0], track_name[0], popularity[0], track_id[0], track_uid[0], metadata[0]])\n",
    "    dislike_index = dislike_index + 1\n",
    "    \n",
    "print('Number of songs in like database: {}'.format(like_index))\n",
    "print('Number of songs in dislike database: {}'.format(dislike_index))"
   ]
  },
  {
   "cell_type": "code",
   "execution_count": null,
   "id": "e10188ed-87b8-46e8-9361-b6082acfba6e",
   "metadata": {},
   "outputs": [],
   "source": []
  }
 ],
 "metadata": {
  "kernelspec": {
   "display_name": "Python 3 (ipykernel)",
   "language": "python",
   "name": "python3"
  },
  "language_info": {
   "codemirror_mode": {
    "name": "ipython",
    "version": 3
   },
   "file_extension": ".py",
   "mimetype": "text/x-python",
   "name": "python",
   "nbconvert_exporter": "python",
   "pygments_lexer": "ipython3",
   "version": "3.9.1"
  }
 },
 "nbformat": 4,
 "nbformat_minor": 5
}
